{
 "cells": [
  {
   "cell_type": "code",
   "execution_count": 44,
   "metadata": {},
   "outputs": [],
   "source": [
    "import torch \n",
    "from Focal_loss import focal_loss\n",
    "import torch.nn as nn\n",
    "from dataset import YinYingCNNDataset\n",
    "from CNN import CNN\n",
    "from torch.utils.data import Dataset, DataLoader\n",
    "import torch.nn.functional as F\n",
    "import torch.optim as optim"
   ]
  },
  {
   "cell_type": "code",
   "execution_count": 46,
   "metadata": {},
   "outputs": [
    {
     "name": "stdout",
     "output_type": "stream",
     "text": [
      "Epoch 1/20, Loss: 568.7224\n",
      "Epoch 2/20, Loss: 568.0471\n",
      "Epoch 3/20, Loss: 568.0207\n",
      "Epoch 4/20, Loss: 568.0436\n"
     ]
    },
    {
     "ename": "KeyboardInterrupt",
     "evalue": "",
     "output_type": "error",
     "traceback": [
      "\u001b[1;31m---------------------------------------------------------------------------\u001b[0m",
      "\u001b[1;31mKeyboardInterrupt\u001b[0m                         Traceback (most recent call last)",
      "Cell \u001b[1;32mIn[46], line 26\u001b[0m\n\u001b[0;32m     24\u001b[0m     loss\u001b[38;5;241m.\u001b[39mbackward()\n\u001b[0;32m     25\u001b[0m     optimizer\u001b[38;5;241m.\u001b[39mstep()\n\u001b[1;32m---> 26\u001b[0m     running_loss \u001b[38;5;241m+\u001b[39m\u001b[38;5;241m=\u001b[39m \u001b[43mloss\u001b[49m\u001b[38;5;241;43m.\u001b[39;49m\u001b[43mitem\u001b[49m\u001b[43m(\u001b[49m\u001b[43m)\u001b[49m\n\u001b[0;32m     27\u001b[0m epoch_loss \u001b[38;5;241m=\u001b[39m running_loss \u001b[38;5;241m/\u001b[39m \u001b[38;5;28mlen\u001b[39m(dataloader\u001b[38;5;241m.\u001b[39mdataset)\n\u001b[0;32m     28\u001b[0m loss_list\u001b[38;5;241m.\u001b[39mappend(epoch_loss)\n",
      "\u001b[1;31mKeyboardInterrupt\u001b[0m: "
     ]
    }
   ],
   "source": [
    "# 定义设备\n",
    "device = torch.device(\"cuda\" if torch.cuda.is_available() else \"cpu\")\n",
    "# 定义模型\n",
    "model = CNN().to(device)\n",
    "# 定义损失函数\n",
    "criterion = focal_loss(device, alpha=0.25, gamma=2, num_classes=2,size_average=False)\n",
    "# 定义优化器\n",
    "optimizer = optim.Adam(model.parameters(), lr=1e-3)\n",
    "loss_list = []\n",
    "num_epochs = 20\n",
    "\n",
    "root_dir = './data/'\n",
    "dataset = YinYingCNNDataset(root_dir)\n",
    "dataloader = DataLoader(dataset, batch_size=1, shuffle=True)\n",
    "model.train()\n",
    "for epoch in range(num_epochs):\n",
    "    running_loss = 0.0\n",
    "    for i, (feature,label,mask) in enumerate(dataloader):\n",
    "        feature = feature.to(device)\n",
    "        pred = model(feature)\n",
    "        mask = mask.flatten(1).to(device)\n",
    "        label = label.long().flatten(1).to(device)\n",
    "        loss = criterion(pred,label,mask)\n",
    "        loss.backward()\n",
    "        optimizer.step()\n",
    "        running_loss += loss.item()\n",
    "    epoch_loss = running_loss / len(dataloader.dataset)\n",
    "    loss_list.append(epoch_loss)\n",
    "    print(f'Epoch {epoch + 1}/{num_epochs}, Loss: {epoch_loss:.4f}') "
   ]
  },
  {
   "cell_type": "code",
   "execution_count": 30,
   "metadata": {},
   "outputs": [
    {
     "data": {
      "text/plain": [
       "tensor(168.5203, device='cuda:0', grad_fn=<SumBackward0>)"
      ]
     },
     "execution_count": 30,
     "metadata": {},
     "output_type": "execute_result"
    }
   ],
   "source": [
    "# loss_fn = focal_loss(device, alpha=0.25, gamma=2, num_classes=2,size_average=False)\n",
    "# l1 = label.long().flatten(1).to(device)\n",
    "# loss = loss_fn(pred, l1, mask.to(device))\n",
    "# loss"
   ]
  }
 ],
 "metadata": {
  "kernelspec": {
   "display_name": "python3.8",
   "language": "python",
   "name": "python3"
  },
  "language_info": {
   "codemirror_mode": {
    "name": "ipython",
    "version": 3
   },
   "file_extension": ".py",
   "mimetype": "text/x-python",
   "name": "python",
   "nbconvert_exporter": "python",
   "pygments_lexer": "ipython3",
   "version": "3.8.19"
  }
 },
 "nbformat": 4,
 "nbformat_minor": 2
}
