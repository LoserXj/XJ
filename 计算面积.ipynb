{
 "cells": [
  {
   "cell_type": "code",
   "execution_count": 1,
   "metadata": {},
   "outputs": [],
   "source": [
    "import torch \n",
    "from Focal_loss import focal_loss\n",
    "import torch.nn as nn\n",
    "from dataset import YinYingCNNDataset\n",
    "from CNN import CNNArea\n",
    "from torch.utils.data import Dataset, DataLoader\n",
    "import torch.nn.functional as F\n",
    "import torch.optim as optim"
   ]
  },
  {
   "cell_type": "code",
   "execution_count": 14,
   "metadata": {},
   "outputs": [],
   "source": [
    "# 自定义损失函数，仅对 mask 区域进行计算\n",
    "class Loss(nn.Module):\n",
    "    def __init__(self):\n",
    "        super(Loss, self).__init__()\n",
    "\n",
    "    def forward(self, output, label):\n",
    "        squared_loss = (torch.abs(output - label))\n",
    "        loss = squared_loss.sum()\n",
    "        return loss"
   ]
  },
  {
   "cell_type": "code",
   "execution_count": 16,
   "metadata": {},
   "outputs": [
    {
     "name": "stdout",
     "output_type": "stream",
     "text": [
      "tensor(1674.7838, device='cuda:0', grad_fn=<SumBackward0>)\n"
     ]
    }
   ],
   "source": [
    "# 定义设备\n",
    "device = torch.device(\"cuda\" if torch.cuda.is_available() else \"cpu\")\n",
    "# 定义模型\n",
    "model = CNNArea().to(device)\n",
    "\n",
    "# 定义优化器\n",
    "optimizer = optim.Adam(model.parameters(), lr=1e-3)\n",
    "loss_list = []\n",
    "num_epochs = 1\n",
    "loss_fn = Loss()\n",
    "\n",
    "root_dir = './data/'\n",
    "dataset = YinYingCNNDataset(root_dir)\n",
    "dataloader = DataLoader(dataset, batch_size=2, shuffle=True)\n",
    "model.train()\n",
    "for epoch in range(num_epochs):\n",
    "    running_loss = 0.0\n",
    "    for i, (feature,label,mask) in enumerate(dataloader):\n",
    "        feature = feature.to(device)\n",
    "        pred = model(feature)\n",
    "        label_sum = torch.sum(label,dim=(1,2,3)).unsqueeze(1).to(device)\n",
    "        loss = loss_fn(pred,label_sum) \n",
    "        loss.backward()\n",
    "        optimizer.step()\n",
    "        running_loss += loss.item()\n",
    "    epoch_loss = running_loss / len(dataloader.dataset)\n",
    "    loss_list.append(epoch_loss)\n",
    "    print(f'Epoch {epoch + 1}/{num_epochs}, Loss: {epoch_loss:.4f}') "
   ]
  }
 ],
 "metadata": {
  "kernelspec": {
   "display_name": "python3.8",
   "language": "python",
   "name": "python3"
  },
  "language_info": {
   "codemirror_mode": {
    "name": "ipython",
    "version": 3
   },
   "file_extension": ".py",
   "mimetype": "text/x-python",
   "name": "python",
   "nbconvert_exporter": "python",
   "pygments_lexer": "ipython3",
   "version": "3.8.19"
  }
 },
 "nbformat": 4,
 "nbformat_minor": 2
}
